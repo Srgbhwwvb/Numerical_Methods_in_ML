{
  "cells": [
    {
      "cell_type": "code",
      "execution_count": null,
      "id": "0fd61954",
      "metadata": {
        "id": "0fd61954"
      },
      "outputs": [],
      "source": [
        "import numpy as np"
      ]
    },
    {
      "cell_type": "code",
      "execution_count": null,
      "id": "f6dd958e",
      "metadata": {
        "id": "f6dd958e"
      },
      "outputs": [],
      "source": [
        "def house(x):\n",
        "    n=len(x); mu=np.linalg.norm(x); v=np.copy(x)\n",
        "    if mu:\n",
        "        beta=x[0]+(1.0 if x[0] >= 0 else -1.0)*mu\n",
        "        v[1:]/=beta\n",
        "    v[0]=1.0\n",
        "    return v\n"
      ]
    },
    {
      "cell_type": "code",
      "execution_count": null,
      "id": "f6ad3262",
      "metadata": {
        "id": "f6ad3262"
      },
      "outputs": [],
      "source": [
        "def row_house(A,v):\n",
        "    beta = -2.0 / np.dot(v,v)\n",
        "    w = beta * np.matmul(A.T,v)\n",
        "    A+=np.outer(v,w)\n"
      ]
    },
    {
      "cell_type": "code",
      "execution_count": null,
      "id": "0a1c6bd7",
      "metadata": {
        "id": "0a1c6bd7"
      },
      "outputs": [],
      "source": [
        "def house_rev_accum(A,B):\n",
        "    m,n=A.shape\n",
        "    v=np.zeros(m)\n",
        "    for j in range(n-1,-1,-1):\n",
        "        v[j]=1.0; v[j+1:]=A[j+1:,j]\n",
        "        row_house(B[j:,j:],v[j:])\n"
      ]
    },
    {
      "cell_type": "code",
      "execution_count": null,
      "id": "82de54af",
      "metadata": {
        "id": "82de54af"
      },
      "outputs": [],
      "source": [
        "def house_QR(A):\n",
        "    m,n=A.shape\n",
        "    for j in range(n):\n",
        "        v=house(A[j:,j])\n",
        "        row_house(A[j:,j:],v)\n",
        "        if j<m-1:\n",
        "            A[j+1:,j]=v[1:]\n",
        "    return A\n",
        "\n"
      ]
    },
    {
      "cell_type": "markdown",
      "source": [
        "1. Решение СЛАУ методом Хаусхолдера, вычисление норм невязок, погрешностей:"
      ],
      "metadata": {
        "id": "ubCaoWrpFo16"
      },
      "id": "ubCaoWrpFo16"
    },
    {
      "cell_type": "code",
      "execution_count": null,
      "id": "877d5295",
      "metadata": {
        "colab": {
          "base_uri": "https://localhost:8080/"
        },
        "id": "877d5295",
        "outputId": "1387a47f-349e-45cf-9e43-41747c365c5e"
      },
      "outputs": [
        {
          "output_type": "stream",
          "name": "stdout",
          "text": [
            "[-8.  4. -3.  6.]\n",
            "[ 13.  14. -15.  10.]\n",
            "1-норма  невязки  для первой матрицы =  2.8421709430404007e-13\n",
            "1-норма невязки  для второй матрицы =  8.162359677044151e-13\n",
            "inf-норма  невязки  для первой матрицы =  1.1368683772161603e-13\n",
            "inf-норма невязки  для второй матрицы =  6.252776074688882e-13\n",
            "абсолютная погрешность для первой матрицы =  0.0\n",
            "абсолютная погрешность для второй матрицы  =  5.653090536812564e-10\n",
            "относительная погрешность для первой матрицы =  0.0\n",
            "относительная погрешность для второй матрицы =  5.056277889309467e-11\n"
          ]
        }
      ],
      "source": [
        "def solvehouse(A1,b):\n",
        "    A=np.copy(A1)\n",
        "    house_QR(A)\n",
        "    m,n=A.shape\n",
        "    Q=np.eye(m)\n",
        "    house_rev_accum(A,Q)\n",
        "    R=np.zeros((m,n))\n",
        "    for j in range(n):\n",
        "        R[:j+1,j]=A[:j+1,j]\n",
        "    x=np.empty(A.shape[0])\n",
        "    b = np.matmul(Q.T,b)\n",
        "    for i in range(A.shape[0]-1,-1,-1):\n",
        "        x[i]=b[i]/A[i][i]\n",
        "        for j in range(A.shape[0]-1,i,-1):\n",
        "            x[i]-=x[j]*A[i][j]/A[i][i]\n",
        "    return x\n",
        "\n",
        "A_1 = np.array([[ 127.8000,8.0300,1.4000,-2.3600],\n",
        "      [0.2700,136.4000,-0.1600,-4.5500],\n",
        "     [-3.8400,5.3700,-111.0000,1.5600],\n",
        "     [-6.5300,6.7200,2.8800,47.2000]])\n",
        "b_1 = np.array([-1008.64, 516.62, 394.56, 353.68])\n",
        "x_1 = np.array([-8,4,-3,6], dtype = 'float64') #точное решение\n",
        "\n",
        "A_2 = np.array([[3.8970,-3.8940,19.0620,27.2580],\n",
        "     [29.1600,-29.1570,158.9520,198.7160],\n",
        "      [0.9720,-0.9720,4.7610,6.8040],\n",
        "      [2.9160,-2.9160,16.5900,19.6430]])\n",
        "b_2 = np.array([-17.2050, -426.2380, -4.3470, -55.3360])\n",
        "x_2 = np.array([13,14,-15,10], dtype = 'float64') #точное решение\n",
        "\n",
        "\n",
        "x_11 = solvehouse(A_1,b_1)\n",
        "x_22 = solvehouse(A_2,b_2)\n",
        "print(x_11)\n",
        "print(x_22)\n",
        "\n",
        "print('1-норма  невязки  для первой матрицы = ', np.linalg.norm((np.dot(A_1,x_11)-b_1),1))\n",
        "print('1-норма невязки  для второй матрицы = ', np.linalg.norm((np.dot(A_2,x_22)-b_2),1))\n",
        "print('inf-норма  невязки  для первой матрицы = ', np.linalg.norm((np.dot(A_1,x_11)-b_1), np.inf))\n",
        "print('inf-норма невязки  для второй матрицы = ', np.linalg.norm((np.dot(A_2,x_22)-b_2), np.inf))\n",
        "print('абсолютная погрешность для первой матрицы = ', np.linalg.norm(x_11-x_1))\n",
        "print('абсолютная погрешность для второй матрицы  = ', np.linalg.norm(x_22-x_2))\n",
        "print('относительная погрешность для первой матрицы = ', np.linalg.norm(x_11-x_1)/np.linalg.norm(x_1))\n",
        "print('относительная погрешность для второй матрицы = ', np.linalg.norm(x_22-x_2)/np.linalg.norm(x_1))\n",
        "\n",
        "\n"
      ]
    },
    {
      "cell_type": "markdown",
      "source": [
        "Вычисление обратной матрицы, проверка, нахождение числа обусловленности:"
      ],
      "metadata": {
        "id": "5ZMRMYHzFXg7"
      },
      "id": "5ZMRMYHzFXg7"
    },
    {
      "cell_type": "code",
      "execution_count": null,
      "id": "478a2b0f",
      "metadata": {
        "colab": {
          "base_uri": "https://localhost:8080/"
        },
        "id": "478a2b0f",
        "outputId": "42766fe5-2e40-49b8-fd75-ed3cfa70e02b"
      },
      "outputs": [
        {
          "output_type": "stream",
          "name": "stdout",
          "text": [
            "[[ 1.00000000e+00 -3.23336039e-17  6.40073092e-19  1.22048429e-17]\n",
            " [ 1.10102434e-18  1.00000000e+00  6.65569211e-18 -7.62678253e-18]\n",
            " [-3.53684296e-18  8.52490620e-18  1.00000000e+00  1.51369306e-18]\n",
            " [-2.16266504e-17 -8.09968664e-19  8.57430559e-18  1.00000000e+00]]\n",
            "[[ 9.99999997e-01  2.72837686e-09 -1.42513178e-08 -1.87661950e-08]\n",
            " [-3.20297155e-09  1.00000000e+00 -1.47378063e-08 -1.92941394e-08]\n",
            " [-1.90943142e-11  8.18037775e-12  1.00000000e+00 -3.80502818e-11]\n",
            " [-3.73903774e-11  8.28654692e-12  7.94958190e-12  1.00000000e+00]]\n",
            "Число обусловленности первой матрицы =  5.665774461679196\n",
            "Число обусловленности второй матрицы =  74587201.49508478\n"
          ]
        }
      ],
      "source": [
        "def reverse(A):\n",
        "    X = []\n",
        "    A_1 = np.copy(A)\n",
        "    x = np.zeros(A.shape[1])\n",
        "    for i in range(A.shape[1]):\n",
        "        x[i] = 1\n",
        "        A = np.copy(A_1)\n",
        "        X.append(solvehouse(A,x))\n",
        "        x[i] = 0\n",
        "    return X\n",
        "\n",
        "X_1=np.transpose(reverse(A_1))\n",
        "print(X_1@A_1)\n",
        "X_2=np.transpose(reverse(A_2))\n",
        "print(X_2@A_2)\n",
        "print('Число обусловленности первой матрицы = ', np.linalg.norm(A_1)*np.linalg.norm(X_1))\n",
        "print('Число обусловленности второй матрицы = ', np.linalg.norm(A_2)*np.linalg.norm(X_2))"
      ]
    },
    {
      "cell_type": "markdown",
      "source": [
        "Сравнение с методом Гаусса:"
      ],
      "metadata": {
        "id": "9_ErGMONGEsr"
      },
      "id": "9_ErGMONGEsr"
    },
    {
      "cell_type": "code",
      "execution_count": null,
      "id": "f1dc2f0a",
      "metadata": {
        "colab": {
          "base_uri": "https://localhost:8080/"
        },
        "id": "f1dc2f0a",
        "outputId": "10a37acf-5305-4e39-e447-6e557744dca1"
      },
      "outputs": [
        {
          "output_type": "stream",
          "name": "stdout",
          "text": [
            "[-8.0, 4.0, -3.0000000000000004, 6.0]\n",
            "[nan, nan, inf, inf]\n"
          ]
        },
        {
          "output_type": "stream",
          "name": "stderr",
          "text": [
            "<ipython-input-10-7d9790486cc9>:25: RuntimeWarning: divide by zero encountered in scalar divide\n",
            "  x[i] = vector[i] / matrix[i][i]\n",
            "<ipython-input-10-7d9790486cc9>:27: RuntimeWarning: invalid value encountered in scalar subtract\n",
            "  vector[k] -= matrix[k][i] * x[i]\n"
          ]
        }
      ],
      "source": [
        "def gauss_method(matrix, vector):\n",
        "    n = len(matrix)\n",
        "    for i in range(n):\n",
        "        max_el = abs(matrix[i][i])\n",
        "        max_row = i\n",
        "        for k in range(i + 1, n):\n",
        "            if abs(matrix[k][i]) > max_el:\n",
        "                max_el = abs(matrix[k][i])\n",
        "                max_row = k\n",
        "\n",
        "        matrix[i], matrix[max_row] = matrix[max_row], matrix[i]\n",
        "        vector[i], vector[max_row] = vector[max_row], vector[i]\n",
        "\n",
        "        for k in range(i + 1, n):\n",
        "            c = -matrix[k][i] / matrix[i][i]\n",
        "            for j in range(i, n):\n",
        "                if i == j:\n",
        "                    matrix[k][j] = 0\n",
        "                else:\n",
        "                    matrix[k][j] += c * matrix[i][j]\n",
        "            vector[k] += c * vector[i]\n",
        "\n",
        "    x = [0 for _ in range(n)]\n",
        "    for i in range(n - 1, -1, -1):\n",
        "        x[i] = vector[i] / matrix[i][i]\n",
        "        for k in range(i - 1, -1, -1):\n",
        "            vector[k] -= matrix[k][i] * x[i]\n",
        "    return x\n",
        "A_1 = np.array([[ 127.8000,8.0300,1.4000,-2.3600],\n",
        "      [0.2700,136.4000,-0.1600,-4.5500],\n",
        "     [-3.8400,5.3700,-111.0000,1.5600],\n",
        "     [-6.5300,6.7200,2.8800,47.2000]])\n",
        "b_1 = np.array([-1008.64, 516.62, 394.56, 353.68])\n",
        "x_1 = np.array([-8,4,-3,6], dtype = 'float64')\n",
        "\n",
        "A_2 = np.array([[3.8970,-3.8940,19.0620,27.2580],\n",
        "     [29.1600,-29.1570,158.9520,198.7160],\n",
        "      [0.9720,-0.9720,4.7610,6.8040],\n",
        "      [2.9160,-2.9160,16.5900,19.6430]])\n",
        "b_2 = np.array([-17.2050, -426.2380, -4.3470, -55.3360])\n",
        "x_2 = np.array([13,14,-15,10], dtype = 'float64')\n",
        "\n",
        "print(gauss_method(A_1,b_1))\n",
        "print(gauss_method(A_2,b_2)) #не решает\n"
      ]
    }
  ],
  "metadata": {
    "kernelspec": {
      "display_name": "Python 3 (ipykernel)",
      "language": "python",
      "name": "python3"
    },
    "language_info": {
      "codemirror_mode": {
        "name": "ipython",
        "version": 3
      },
      "file_extension": ".py",
      "mimetype": "text/x-python",
      "name": "python",
      "nbconvert_exporter": "python",
      "pygments_lexer": "ipython3",
      "version": "3.11.4"
    },
    "colab": {
      "provenance": []
    }
  },
  "nbformat": 4,
  "nbformat_minor": 5
}